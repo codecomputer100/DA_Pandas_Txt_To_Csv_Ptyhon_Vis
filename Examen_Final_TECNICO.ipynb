{
 "cells": [
  {
   "cell_type": "markdown",
   "metadata": {},
   "source": [
    "## EXAMEN FINAL"
   ]
  },
  {
   "cell_type": "markdown",
   "metadata": {},
   "source": [
    "### Eres un analista de datos en una empresa que se dedica a la distribución masiva de licores en el estado de IOWA, se solicita un analisis del costo en base a registros historicos que se han obtenido del ERP de la empresa, te han entregado varios archivos txt que contienen la información, por ende es necesario que crees un script que permita leerlos y además haga un analisis de costo por categoria, es necesario tambien, que cuando pueda llegar un nuevo archivo TXT, pueda ser leido sin problemas"
   ]
  },
  {
   "cell_type": "markdown",
   "metadata": {},
   "source": [
    "#### La estructura del archivo completo seria la siguiente \n",
    "\n",
    "\n",
    "\n",
    "1. **invoice_and_item_number**: Número de factura y número de artículo.\n",
    "2. **date**: Fecha de la transacción.\n",
    "3. **store_number**: Número de la tienda.\n",
    "4. **store_name**: Nombre de la tienda.\n",
    "5. **address**: Dirección de la tienda.\n",
    "6. **city**: Ciudad donde se encuentra la tienda.\n",
    "7. **zip_code**: Código postal de la tienda.\n",
    "8. **store_location**: Ubicación geográfica de la tienda (generalmente en coordenadas).\n",
    "9. **county_number**: Número del condado (jurisdicción administrativa en algunos países).\n",
    "10. **county**: Nombre del condado.\n",
    "11. **category**: Categoría del producto (normalmente un código).\n",
    "12. **category_name**: Nombre de la categoría del producto.\n",
    "13. **vendor_number**: Número del proveedor.\n",
    "14. **vendor_name**: Nombre del proveedor.\n",
    "15. **item_number**: Número del artículo o producto.\n",
    "16. **item_description**: Descripción del artículo o producto.\n",
    "17. **pack**: Cantidad de productos en un paquete.\n",
    "18. **bottle_volume_ml**: Volumen de la botella en mililitros (ml).\n",
    "19. **state_bottle_cost**: Costo de la botella para el estado (precio de compra por la entidad estatal).\n",
    "20. **state_bottle_retail**: Precio de venta al por menor de la botella.\n",
    "21. **bottles_sold**: Número de botellas vendidas.\n",
    "22. **sale_dollars**: Importe total de la venta en dólares.\n",
    "23. **volume_sold_liters**: Volumen total vendido en litros.\n",
    "24. **volume_sold_gallons**: Volumen total vendido en galones.\n",
    "25. **month**: Mes en que ocurrió la transacción (formato de año y mes).\n",
    "\n",
    "\n",
    "Tienes un ejemplo en excel de como debería quedar la tabla final en el archivo ejemplo.xlsx"
   ]
  },
  {
   "cell_type": "markdown",
   "metadata": {},
   "source": [
    "#### Para la realizacion del examen dentro de la carpeta DATA_RE, encontraras los archivos correspondientes a la venta. Estos no cuentan con las columnas de CATEGORY, CATEGORY_NAME, Y MONTH\n",
    "\n",
    "Por ende sera necesario realizar un trabajo de preprocesamiento con pandas leyendo cada archivo txt y agregando a los dataframes, tanto el codigo de categoria como el mes en que se realizo la transacción.\n",
    "\n",
    "Los nombres de los archivos TXT guardan la estructura de **codigo categoria** _ **month**, posteriormente al añadir el codigo de categoria debera relacionarse con merge, en base al diccionario de categorias ubicado en el archivo  **CATEGORIAS DE PRODUCTOS_.txt**\n",
    "\n",
    "### El obtener la tabla completa de acuerdo al ejemplo y alimentada de los TXT otorgara 12 puntos sobre el examen final tecnico-practico."
   ]
  },
  {
   "cell_type": "code",
   "execution_count": 9,
   "metadata": {},
   "outputs": [
    {
     "name": "stdout",
     "output_type": "stream",
     "text": [
      "25\n",
      "  invoice_and_item_number        date  store_number  \\\n",
      "0        RINV-04495800304   7/02/2023          2603   \n",
      "1         INV-55758700081  10/02/2023          2613   \n",
      "2         INV-55969400075  17/02/2023          2551   \n",
      "3         INV-56015900008  20/02/2023          6262   \n",
      "4         INV-55631600073   7/02/2023          3723   \n",
      "\n",
      "                                  store_name                address  \\\n",
      "0       HY-VEE WINE AND SPIRITS / BETTENDORF  2890 DEVILS GLEN ROAD   \n",
      "1      HY-VEE FOOD STORE #1 / COUNCIL BLUFFS        2323 W BROADWAY   \n",
      "2        HY-VEE FOOD STORE (1065) / CHARITON        2001 WEST COURT   \n",
      "3  FAREWAY STORES, INC. #222 / ROCKWELL CITY   339 EAST HIGH STREET   \n",
      "4                         J D SPIRITS LIQUOR           1023  9TH ST   \n",
      "\n",
      "             city  zip_code             store_location  county_number  \\\n",
      "0      BETTENDORF     52722  POINT(-90.48373 41.55236)            NaN   \n",
      "1  COUNCIL BLUFFS     51501  POINT(-95.87957 41.26193)            NaN   \n",
      "2        CHARITON     50049  POINT(-93.32337 41.01456)            NaN   \n",
      "3   ROCKWELL CITY     50579  POINT(-94.62577 42.39885)            NaN   \n",
      "4           ONAWA     51040  POINT(-96.09589 42.02584)            NaN   \n",
      "\n",
      "          county  ...  item_number  \\\n",
      "0          SCOTT  ...        28131   \n",
      "1  POTTAWATTAMIE  ...        24451   \n",
      "2          LUCAS  ...        26087   \n",
      "3        CALHOUN  ...        26174   \n",
      "4         MONONA  ...        26176   \n",
      "\n",
      "                               item_description  pack bottle_volume_ml  \\\n",
      "0                               CODY ROAD HONEY     6              750   \n",
      "1                    KESSLER BLEND WHISKEY MINI    12               50   \n",
      "2          BIRD DOG HONEY FLAVORED WHISKEY MINI     6               50   \n",
      "3  BIRD DOG PEANUT BUTTER FLAVORED WHISKEY MINI     6               50   \n",
      "4                      BIRD DOG STRAWBERRY MINI     6               50   \n",
      "\n",
      "   state_bottle_cost  state_bottle_retail  bottles_sold  sale_dollars  \\\n",
      "0               17.0                 25.5            -6        -153.0   \n",
      "1                5.4                  8.1             1           8.1   \n",
      "2                5.0                  7.5             1           7.5   \n",
      "3                5.0                  7.5             1           7.5   \n",
      "4                5.0                  7.5             1           7.5   \n",
      "\n",
      "   volume_sold_liters  volume_sold_gallons  \n",
      "0               -4.50                -1.18  \n",
      "1                0.05                 0.01  \n",
      "2                0.05                 0.01  \n",
      "3                0.05                 0.01  \n",
      "4                0.05                 0.01  \n",
      "\n",
      "[5 rows x 22 columns]\n"
     ]
    }
   ],
   "source": [
    "#import pandas as pd\n",
    "import pandas as pd\n",
    "import glob\n",
    "import os\n",
    "\n",
    "# carpeta que contiene los archivos\n",
    "folder_path = 'xxxxx:/xxxxx/xxxxx/Documents/Examen/DATA_RE'\n",
    "print(len(all_files))  # Debería mostrar el número de archivos encontrados\n",
    "\n",
    "#  glob para obtener una lista de todos los archivos .txt en la carpeta\n",
    "all_files = glob.glob(os.path.join(folder_path, \"*.txt\"))\n",
    "\n",
    "#  almacenar DataFrames en lista\n",
    "df_list = []\n",
    "\n",
    "# Leectura de cada archivo y adicion  a la lista\n",
    "for file in all_files:\n",
    "    df = pd.read_csv(file, delimiter='\\t')  # Cambia el delimitador si es necesario\n",
    "    df_list.append(df)\n",
    "\n",
    "# Combinar todos los DataFrames en uno solo\n",
    "combined_df = pd.concat(df_list, ignore_index=True)\n",
    "\n",
    "# Mostrar las primeras filas del DataFrame combinado\n",
    "print(combined_df.head())\n"
   ]
  },
  {
   "cell_type": "code",
   "execution_count": 7,
   "metadata": {},
   "outputs": [],
   "source": [
    "df.to_csv('xxxxx:/xxxxx/xxxxx/Documents/Examen/archivo.csv', index=False)\n"
   ]
  },
  {
   "cell_type": "code",
   "execution_count": null,
   "metadata": {},
   "outputs": [],
   "source": [
    "for file in all_files:\n",
    "    df = pd.read_csv(file, delimiter='\\t')  # Cambia el delimitador si es necesario\n",
    "    print(f'{file}: {len(df)} registros')\n",
    "    df_list.append(df)\n"
   ]
  },
  {
   "cell_type": "code",
   "execution_count": null,
   "metadata": {},
   "outputs": [],
   "source": [
    "for file in all_files[:5]:  # primeros 5 archivos como ejemplo\n",
    "    df = pd.read_csv(file, delimiter='\\t')\n",
    "    print(f'{file} - Primeras filas:')\n",
    "    print(df.head())\n"
   ]
  },
  {
   "cell_type": "code",
   "execution_count": 17,
   "metadata": {},
   "outputs": [
    {
     "name": "stdout",
     "output_type": "stream",
     "text": [
      "Total de registros combinados: 680\n",
      "  invoice_and_item_number        date  store_number  \\\n",
      "0        RINV-04495800304   7/02/2023          2603   \n",
      "1         INV-55758700081  10/02/2023          2613   \n",
      "2         INV-55969400075  17/02/2023          2551   \n",
      "3         INV-56015900008  20/02/2023          6262   \n",
      "4         INV-55631600073   7/02/2023          3723   \n",
      "\n",
      "                                  store_name                address  \\\n",
      "0       HY-VEE WINE AND SPIRITS / BETTENDORF  2890 DEVILS GLEN ROAD   \n",
      "1      HY-VEE FOOD STORE #1 / COUNCIL BLUFFS        2323 W BROADWAY   \n",
      "2        HY-VEE FOOD STORE (1065) / CHARITON        2001 WEST COURT   \n",
      "3  FAREWAY STORES, INC. #222 / ROCKWELL CITY   339 EAST HIGH STREET   \n",
      "4                         J D SPIRITS LIQUOR           1023  9TH ST   \n",
      "\n",
      "             city  zip_code             store_location  county_number  \\\n",
      "0      BETTENDORF     52722  POINT(-90.48373 41.55236)            NaN   \n",
      "1  COUNCIL BLUFFS     51501  POINT(-95.87957 41.26193)            NaN   \n",
      "2        CHARITON     50049  POINT(-93.32337 41.01456)            NaN   \n",
      "3   ROCKWELL CITY     50579  POINT(-94.62577 42.39885)            NaN   \n",
      "4           ONAWA     51040  POINT(-96.09589 42.02584)            NaN   \n",
      "\n",
      "          county  ...  item_number  \\\n",
      "0          SCOTT  ...        28131   \n",
      "1  POTTAWATTAMIE  ...        24451   \n",
      "2          LUCAS  ...        26087   \n",
      "3        CALHOUN  ...        26174   \n",
      "4         MONONA  ...        26176   \n",
      "\n",
      "                               item_description  pack bottle_volume_ml  \\\n",
      "0                               CODY ROAD HONEY     6              750   \n",
      "1                    KESSLER BLEND WHISKEY MINI    12               50   \n",
      "2          BIRD DOG HONEY FLAVORED WHISKEY MINI     6               50   \n",
      "3  BIRD DOG PEANUT BUTTER FLAVORED WHISKEY MINI     6               50   \n",
      "4                      BIRD DOG STRAWBERRY MINI     6               50   \n",
      "\n",
      "   state_bottle_cost  state_bottle_retail  bottles_sold  sale_dollars  \\\n",
      "0               17.0                 25.5            -6        -153.0   \n",
      "1                5.4                  8.1             1           8.1   \n",
      "2                5.0                  7.5             1           7.5   \n",
      "3                5.0                  7.5             1           7.5   \n",
      "4                5.0                  7.5             1           7.5   \n",
      "\n",
      "   volume_sold_liters  volume_sold_gallons  \n",
      "0               -4.50                -1.18  \n",
      "1                0.05                 0.01  \n",
      "2                0.05                 0.01  \n",
      "3                0.05                 0.01  \n",
      "4                0.05                 0.01  \n",
      "\n",
      "[5 rows x 22 columns]\n"
     ]
    }
   ],
   "source": [
    "for file in all_files:\n",
    "    df = pd.read_csv(file, delimiter='\\t')\n",
    "    if not df.empty:  # DataFrames no vacíos\n",
    "        df_list.append(df)\n",
    "\n",
    "combined_df = pd.concat(df_list, ignore_index=True)\n",
    "print(f'Total de registros combinados: {len(combined_df)}')\n",
    "print(combined_df.head())\n",
    "\n"
   ]
  },
  {
   "cell_type": "code",
   "execution_count": 21,
   "metadata": {},
   "outputs": [
    {
     "name": "stdout",
     "output_type": "stream",
     "text": [
      "  invoice_and_item_number        date  store_number  \\\n",
      "0        RINV-04495800304   7/02/2023          2603   \n",
      "1         INV-55758700081  10/02/2023          2613   \n",
      "2         INV-55969400075  17/02/2023          2551   \n",
      "3         INV-56015900008  20/02/2023          6262   \n",
      "4         INV-55631600073   7/02/2023          3723   \n",
      "\n",
      "                                  store_name                address  \\\n",
      "0       HY-VEE WINE AND SPIRITS / BETTENDORF  2890 DEVILS GLEN ROAD   \n",
      "1      HY-VEE FOOD STORE #1 / COUNCIL BLUFFS        2323 W BROADWAY   \n",
      "2        HY-VEE FOOD STORE (1065) / CHARITON        2001 WEST COURT   \n",
      "3  FAREWAY STORES, INC. #222 / ROCKWELL CITY   339 EAST HIGH STREET   \n",
      "4                         J D SPIRITS LIQUOR           1023  9TH ST   \n",
      "\n",
      "             city  zip_code             store_location  county_number  \\\n",
      "0      BETTENDORF     52722  POINT(-90.48373 41.55236)            NaN   \n",
      "1  COUNCIL BLUFFS     51501  POINT(-95.87957 41.26193)            NaN   \n",
      "2        CHARITON     50049  POINT(-93.32337 41.01456)            NaN   \n",
      "3   ROCKWELL CITY     50579  POINT(-94.62577 42.39885)            NaN   \n",
      "4           ONAWA     51040  POINT(-96.09589 42.02584)            NaN   \n",
      "\n",
      "          county  ...                              item_description pack  \\\n",
      "0          SCOTT  ...                               CODY ROAD HONEY    6   \n",
      "1  POTTAWATTAMIE  ...                    KESSLER BLEND WHISKEY MINI   12   \n",
      "2          LUCAS  ...          BIRD DOG HONEY FLAVORED WHISKEY MINI    6   \n",
      "3        CALHOUN  ...  BIRD DOG PEANUT BUTTER FLAVORED WHISKEY MINI    6   \n",
      "4         MONONA  ...                      BIRD DOG STRAWBERRY MINI    6   \n",
      "\n",
      "   bottle_volume_ml state_bottle_cost  state_bottle_retail  bottles_sold  \\\n",
      "0               750              17.0                 25.5            -6   \n",
      "1                50               5.4                  8.1             1   \n",
      "2                50               5.0                  7.5             1   \n",
      "3                50               5.0                  7.5             1   \n",
      "4                50               5.0                  7.5             1   \n",
      "\n",
      "   sale_dollars  volume_sold_liters  volume_sold_gallons  category_code  \n",
      "0        -153.0               -4.50                -1.18        1011100  \n",
      "1           8.1                0.05                 0.01        1011100  \n",
      "2           7.5                0.05                 0.01        1011100  \n",
      "3           7.5                0.05                 0.01        1011100  \n",
      "4           7.5                0.05                 0.01        1011100  \n",
      "\n",
      "[5 rows x 23 columns]\n"
     ]
    }
   ],
   "source": [
    "# Ruta a la carpeta que contiene los archivos\n",
    "folder_path = 'xxxxx:/xxxxx/xxxxx/Documents/Examen/DATA_RE'\n",
    "\n",
    "# Usar glob para obtener una lista de todos los archivos .txt en la carpeta\n",
    "all_files = glob.glob(os.path.join(folder_path, \"*.txt\"))\n",
    "\n",
    "# Lista para almacenar DataFrames\n",
    "df_list = []\n",
    "\n",
    "# Leer cada archivo y agregar la columna de categoría\n",
    "for file in all_files:\n",
    "    # Extraer el nombre del archivo sin la ruta ni la extensión\n",
    "    file_name = os.path.basename(file).replace('.txt', '')\n",
    "    \n",
    "    # Extraer el código de categoría (asumiendo que está antes del primer guion bajo)\n",
    "    category_code = file_name.split('_')[0]\n",
    "\n",
    "    # Leer el archivo en un DataFrame\n",
    "    df = pd.read_csv(file, delimiter='\\t')  # Cambia el delimitador si es necesario\n",
    "\n",
    "    # Agregar la columna de categoría\n",
    "    df['category_code'] = category_code\n",
    "\n",
    "    # Agregar el DataFrame a la lista\n",
    "    df_list.append(df)\n",
    "\n",
    "# Combinar todos los DataFrames en uno solo\n",
    "combined_df = pd.concat(df_list, ignore_index=True)\n",
    "\n",
    "# Mostrar las primeras filas del DataFrame combinado\n",
    "print(combined_df.head())\n"
   ]
  },
  {
   "cell_type": "code",
   "execution_count": 39,
   "metadata": {},
   "outputs": [
    {
     "name": "stdout",
     "output_type": "stream",
     "text": [
      "  invoice_and_item_number        date  store_number  \\\n",
      "0        RINV-04495800304   7/02/2023          2603   \n",
      "1         INV-55758700081  10/02/2023          2613   \n",
      "2         INV-55969400075  17/02/2023          2551   \n",
      "3         INV-56015900008  20/02/2023          6262   \n",
      "4         INV-55631600073   7/02/2023          3723   \n",
      "\n",
      "                                  store_name                address  \\\n",
      "0       HY-VEE WINE AND SPIRITS / BETTENDORF  2890 DEVILS GLEN ROAD   \n",
      "1      HY-VEE FOOD STORE #1 / COUNCIL BLUFFS        2323 W BROADWAY   \n",
      "2        HY-VEE FOOD STORE (1065) / CHARITON        2001 WEST COURT   \n",
      "3  FAREWAY STORES, INC. #222 / ROCKWELL CITY   339 EAST HIGH STREET   \n",
      "4                         J D SPIRITS LIQUOR           1023  9TH ST   \n",
      "\n",
      "             city  zip_code             store_location  county_number  \\\n",
      "0      BETTENDORF     52722  POINT(-90.48373 41.55236)            NaN   \n",
      "1  COUNCIL BLUFFS     51501  POINT(-95.87957 41.26193)            NaN   \n",
      "2        CHARITON     50049  POINT(-93.32337 41.01456)            NaN   \n",
      "3   ROCKWELL CITY     50579  POINT(-94.62577 42.39885)            NaN   \n",
      "4           ONAWA     51040  POINT(-96.09589 42.02584)            NaN   \n",
      "\n",
      "          county  ...  pack bottle_volume_ml  state_bottle_cost  \\\n",
      "0          SCOTT  ...     6              750               17.0   \n",
      "1  POTTAWATTAMIE  ...    12               50                5.4   \n",
      "2          LUCAS  ...     6               50                5.0   \n",
      "3        CALHOUN  ...     6               50                5.0   \n",
      "4         MONONA  ...     6               50                5.0   \n",
      "\n",
      "  state_bottle_retail  bottles_sold  sale_dollars  volume_sold_liters  \\\n",
      "0                25.5            -6        -153.0               -4.50   \n",
      "1                 8.1             1           8.1                0.05   \n",
      "2                 7.5             1           7.5                0.05   \n",
      "3                 7.5             1           7.5                0.05   \n",
      "4                 7.5             1           7.5                0.05   \n",
      "\n",
      "   volume_sold_gallons  category_code     category_name  \n",
      "0                -1.18        1011100  BLENDED WHISKIES  \n",
      "1                 0.01        1011100  BLENDED WHISKIES  \n",
      "2                 0.01        1011100  BLENDED WHISKIES  \n",
      "3                 0.01        1011100  BLENDED WHISKIES  \n",
      "4                 0.01        1011100  BLENDED WHISKIES  \n",
      "\n",
      "[5 rows x 24 columns]\n"
     ]
    }
   ],
   "source": [
    "category_mapping_df = pd.read_csv('xxxxx:/xxxxx/xxxxxx/Documents/Examen/Categorias.txt', delimiter='\\t')\n",
    "#Convertimos ambas celdas a string porque da error\n",
    "combined_df['category_code'] = combined_df['category_code'].astype(str)\n",
    "category_mapping_df['category_code'] = category_mapping_df['category_code'].astype(str)\n",
    "\n",
    "# merge para agregar la columna category_name al DataFrame combinado\n",
    "combined_df = combined_df.merge(category_mapping_df, on='category_code', how='left')\n",
    "\n",
    "# primeras filas \n",
    "print(combined_df.head())\n"
   ]
  },
  {
   "cell_type": "markdown",
   "metadata": {},
   "source": [
    "### El poder exportar a excel el resultado otorgara 2 puntos sobre el examen final tecnico-practico."
   ]
  },
  {
   "cell_type": "code",
   "execution_count": null,
   "metadata": {},
   "outputs": [],
   "source": [
    "combined_df.to_csv('xxx:/xxxx/xxxxx/Documents/Examen/combined_data.csv', index=False)\n"
   ]
  },
  {
   "cell_type": "markdown",
   "metadata": {},
   "source": [
    "### Una vez culminado el preprocesamiento se pide un analisis, sera necesario conocer el promedio de costo por categoria, en un grafico de barras utilizando matplotlib, la resolución de este apartado otorgara 3 puntos"
   ]
  },
  {
   "cell_type": "code",
   "execution_count": 43,
   "metadata": {},
   "outputs": [
    {
     "data": {
      "image/png": "[encoded data removed]",
      "text/plain": [
       "<Figure size 1000x800 with 1 Axes>"
      ]
     },
     "metadata": {},
     "output_type": "display_data"
    }
   ],
   "source": [
    "import matplotlib.pyplot as plt\n",
    "\n",
    "average_cost_by_category = combined_df.groupby('category_name')['state_bottle_cost'].mean().sort_values() # promedio de costo por categoría\n",
    "\n",
    "#gráfico de barras\n",
    "plt.figure(figsize=(10, 8))\n",
    "average_cost_by_category.plot(kind='barh', color='skyblue')\n",
    "plt.xlabel('Promedio de Costo ($)')\n",
    "plt.ylabel('Categoría')\n",
    "plt.title('Promedio de Costo por Categoría')\n",
    "plt.show()"
   ]
  },
  {
   "cell_type": "markdown",
   "metadata": {},
   "source": [
    "### Se le solicita también, conocer el valor maximo de Precio de venta al por menor de la botella, AGRUPADO por MONTH, en un grafico de barras utilizando matplotlib, la resolución de este apartado otorgara 3 puntos"
   ]
  },
  {
   "cell_type": "code",
   "execution_count": 45,
   "metadata": {},
   "outputs": [
    {
     "data": {
      "image/png": "[encoded data removed]",
      "text/plain": [
       "<Figure size 1000x600 with 1 Axes>"
      ]
     },
     "metadata": {},
     "output_type": "display_data"
    }
   ],
   "source": [
    "combined_df['date'] = pd.to_datetime(combined_df['date'], format='%d/%m/%Y') #aseguramos que este en formato correcto\n",
    "\n",
    "combined_df['month'] = combined_df['date'].dt.month # mes de la fecha\n",
    "\n",
    "#valor máximo del precio de venta al por menor agrupado por mes\n",
    "max_retail_price_by_month = combined_df.groupby('month')['state_bottle_retail'].max()\n",
    "\n",
    "#gráfico\n",
    "plt.figure(figsize=(10, 6))\n",
    "max_retail_price_by_month.plot(kind='bar', color='salmon')\n",
    "plt.xlabel('Mes')\n",
    "plt.ylabel('Precio Máximo de Venta al por Menor ($)')\n",
    "plt.title('Precio Máximo de Venta al por Menor por Mes')\n",
    "plt.xticks(rotation=0)  # Mantener los meses alineados\n",
    "plt.show()"
   ]
  }
 ],
 "metadata": {
  "kernelspec": {
   "display_name": "Python 3 (ipykernel)",
   "language": "python",
   "name": "python3"
  },
  "language_info": {
   "codemirror_mode": {
    "name": "ipython",
    "version": 3
   },
   "file_extension": ".py",
   "mimetype": "text/x-python",
   "name": "python",
   "nbconvert_exporter": "python",
   "pygments_lexer": "ipython3",
   "version": "3.12.4"
  }
 },
 "nbformat": 4,
 "nbformat_minor": 4
}
